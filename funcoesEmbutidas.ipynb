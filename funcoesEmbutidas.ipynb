{
  "nbformat": 4,
  "nbformat_minor": 0,
  "metadata": {
    "colab": {
      "name": "funcoesEmbutidas.ipynb",
      "provenance": [],
      "collapsed_sections": [],
      "authorship_tag": "ABX9TyPK2UQ+xhyq64g3FEvS+S3E",
      "include_colab_link": true
    },
    "kernelspec": {
      "name": "python3",
      "display_name": "Python 3"
    },
    "language_info": {
      "name": "python"
    }
  },
  "cells": [
    {
      "cell_type": "markdown",
      "metadata": {
        "id": "view-in-github",
        "colab_type": "text"
      },
      "source": [
        "<a href=\"https://colab.research.google.com/github/LarisseDepa/docpython-estudo/blob/main/funcoesEmbutidas.ipynb\" target=\"_parent\"><img src=\"https://colab.research.google.com/assets/colab-badge.svg\" alt=\"Open In Colab\"/></a>"
      ]
    },
    {
      "cell_type": "markdown",
      "metadata": {
        "id": "dSWIm8ECQ7nv"
      },
      "source": [
        "#Funções embutidas"
      ]
    },
    {
      "cell_type": "markdown",
      "metadata": {
        "id": "9tIs7Q3ZTUGP"
      },
      "source": [
        "##abs(x)\n",
        "\n",
        "**Argumento** : número (float ou inteiro) ou objeto implementando __abs__()\n",
        "\n",
        "**Retorna** : \n",
        "\n",
        "Para inteiros - o valor absoluto inteiro é retornado\n",
        "\n",
        "Para números de pontos flutuantes - o valor absoluto flutuante é retornado\n",
        "\n",
        "Para números complexos - a magnitude do número é retornada\n"
      ]
    },
    {
      "cell_type": "code",
      "metadata": {
        "colab": {
          "base_uri": "https://localhost:8080/"
        },
        "id": "uNhMGRAlQ6J6",
        "outputId": "b10b8766-b639-4345-d415-0787de087899"
      },
      "source": [
        "# Valor absoluto de um número inteiro\n",
        "\n",
        "numero_inteiro = -45\n",
        "inteiro_abs= abs(numero_inteiro)\n",
        "print(\"O valor absoluto do número -45 é:\", inteiro_abs)\n",
        "\n",
        "# Valor absoluto de um número de ponto flutuante\n",
        "\n",
        "numero_float = -89.90\n",
        "print(\"O valor absoluto do número -89.90 é:\", abs(numero_float))\n",
        "\n",
        "\n",
        "#Magnitude do número complexo\n",
        "\n",
        "complexo_num = (67 - 3j)\n",
        "print('Magnitude do número 67 + 3j é:', abs(complexo_num))\n",
        "\n"
      ],
      "execution_count": null,
      "outputs": [
        {
          "output_type": "stream",
          "name": "stdout",
          "text": [
            "O valor absoluto do número -45 é: 45\n",
            "O valor absoluto do número -89.90 é: 89.9\n",
            "Magnitude do número 67 + 3j é: 67.06713054842886\n"
          ]
        }
      ]
    },
    {
      "cell_type": "markdown",
      "metadata": {
        "id": "FzeWoOQAcB9b"
      },
      "source": [
        "##all(*iterable*)\n",
        "\n",
        "**Argumento** : lista, tupla ou dicionário\n",
        "\n",
        "**Retorna** : Retorna True se todos os elementos de iterable são verdadeiros (ou se iterable estiver vazio)\n",
        "\n"
      ]
    },
    {
      "cell_type": "code",
      "metadata": {
        "colab": {
          "base_uri": "https://localhost:8080/"
        },
        "id": "TH8bh4rMdDaZ",
        "outputId": "8b4c6bab-634d-4a27-de5d-0611e004079d"
      },
      "source": [
        "#Lista com elementos verdadeiros\n",
        "my_list = ['AAA', 'CCC' , 'GGG']\n",
        "list_iterable = all(my_list)\n",
        "print('Quando todos os elementos são verdadeiros retorna:',list_iterable)\n",
        "\n",
        "#Lista com elemento falso\n",
        "my_list2 = ['AAA', 'CCC' , False]\n",
        "list_iterable2 = all(my_list2)\n",
        "print('Quando 1 elemento é falso retorna:',list_iterable2)"
      ],
      "execution_count": null,
      "outputs": [
        {
          "output_type": "stream",
          "name": "stdout",
          "text": [
            "Quando todos os elementos são verdadeiros retorna: True\n",
            "Quando 1 elemento é falso retorna: False\n"
          ]
        }
      ]
    },
    {
      "cell_type": "markdown",
      "metadata": {
        "id": "6WU1FBJ6fMjx"
      },
      "source": [
        "##any(*iterable*)\n",
        "\n",
        "**Argumento** : lista, tupla ou dicionário\n",
        "\n",
        "**Retorna** : Retorna True se algum elemento de iterable for verdadeiro. Se iterable estiver vazio, retorna False.\n"
      ]
    },
    {
      "cell_type": "code",
      "metadata": {
        "colab": {
          "base_uri": "https://localhost:8080/"
        },
        "id": "Xh5gJM7Pf3nf",
        "outputId": "7627eb35-3f32-4e0c-d5c7-b4bf3af0b573"
      },
      "source": [
        "#tupla com elementos verdadeiros\n",
        "my_tuple = (\"AAA\", \"GGG\", \"ATG\")\n",
        "tuple_interable = all(my_tuple)\n",
        "print(\"Retorna True se apenas um elemento da tupla for verdadeiro:\",tuple_interable)\n",
        "\n",
        "#tupla vazia\n",
        "\n",
        "my_tuple_vazia = (\"\", \"\")\n",
        "print(\"Tupla estiver vazia a função all retorna:\", all(my_tuple_vazia))"
      ],
      "execution_count": null,
      "outputs": [
        {
          "output_type": "stream",
          "name": "stdout",
          "text": [
            "Retorna True se apenas um elemento da tupla for verdadeiro: True\n",
            "Tupla estiver vazia a função all retorna: False\n"
          ]
        }
      ]
    },
    {
      "cell_type": "markdown",
      "metadata": {
        "id": "wjAVmpX8j0jm"
      },
      "source": [
        "##bin(*x*)\n",
        "\n",
        "**Argumento** : número inteiro\n",
        "\n",
        "**Retorna** : Converte um número inteiro para uma string de binários prefixada com “0b”.\n"
      ]
    },
    {
      "cell_type": "code",
      "metadata": {
        "colab": {
          "base_uri": "https://localhost:8080/"
        },
        "id": "R6ZI8RrekIGz",
        "outputId": "8bd254c3-7913-43f7-90d5-9e89f9cd33c0"
      },
      "source": [
        "#número inteiro\n",
        "numero_inteiro = 250\n",
        "bin_int = bin(numero_inteiro)\n",
        "print(\"Retorna bin do número inteiro 250:\",bin_int)\n"
      ],
      "execution_count": null,
      "outputs": [
        {
          "output_type": "stream",
          "name": "stdout",
          "text": [
            "Retorna bin do número inteiro 250: 0b11111010\n"
          ]
        }
      ]
    },
    {
      "cell_type": "markdown",
      "metadata": {
        "id": "ASF13MXflnzV"
      },
      "source": [
        "##class bool([x])"
      ]
    },
    {
      "cell_type": "markdown",
      "metadata": {
        "id": "hxeAgL46mEVm"
      },
      "source": [
        "**parâmetro** : valor ou vazio\n",
        "\n",
        "**Retorna** : \n",
        "\n",
        "`False` se o valor é omitido ou falso\n",
        "\n",
        "`True` se o valor é verdadeiro\n"
      ]
    },
    {
      "cell_type": "code",
      "metadata": {
        "colab": {
          "base_uri": "https://localhost:8080/"
        },
        "id": "vMCI0XvfnQiv",
        "outputId": "f3f112ad-6e16-4e46-978a-7b807bbfc8ff"
      },
      "source": [
        "#Valores considerados falso em python\n",
        "\n",
        "#None\n",
        "valor = None\n",
        "print(valor, 'é', bool(valor))\n",
        "\n",
        "# Zero de qualquer tipo númerico. Por exemplo, 0 ou 0.0 ou 0j\n",
        "zero = 0\n",
        "print(zero,'é', bool(zero))\n",
        "\n",
        "zero_float = 0.0\n",
        "print(zero_float,'é', bool(zero))\n",
        "\n",
        "zero_complex = 0j\n",
        "print(zero_complex,'é', bool(zero))\n",
        "\n",
        "# sequências vazias. Por exemplo, (), [], ''\n",
        "\n",
        "#tupla vazia\n",
        "valor_tupla = ()\n",
        "print(valor_tupla,'é', bool(valor_tupla))\n",
        "\n",
        "#lista vazia\n",
        "valor_lista = []\n",
        "print(valor_lista,'é', bool(valor_lista))\n",
        "\n",
        "#Mapeamento vazio.Por exemplo, {}\n",
        "#lista vazia\n",
        "valor_dic = {}\n",
        "print(valor_dic,'é', bool(valor_dic))\n",
        "\n",
        "\n",
        "#string\n",
        "str_valor = 'AAGC'\n",
        "print(str_valor,'é', bool(str_valor))"
      ],
      "execution_count": null,
      "outputs": [
        {
          "output_type": "stream",
          "name": "stdout",
          "text": [
            "None é False\n",
            "0 é False\n",
            "0.0 é False\n",
            "0j é False\n",
            "() é False\n",
            "[] é False\n",
            "{} é False\n",
            "AAGC é True\n"
          ]
        }
      ]
    },
    {
      "cell_type": "markdown",
      "metadata": {
        "id": "AarBupVgsTWy"
      },
      "source": [
        "##chr(x)\n",
        "\n",
        "**parâmetro** : número inteiro. O intervalo válido do inteiro é de 0 a 1.114.111.\n",
        "\n",
        "\n",
        "\n",
        "**Retorna** : O método chr () retorna um caractere (uma string) de um inteiro (representa o ponto de código Unicode do caractere).\n",
        "\n",
        " a função ord()  é o inverso da função chr () "
      ]
    },
    {
      "cell_type": "code",
      "metadata": {
        "colab": {
          "base_uri": "https://localhost:8080/"
        },
        "id": "GPhLrjaAtBu-",
        "outputId": "43284601-e460-4f79-cd56-ba5fe1688bef"
      },
      "source": [
        "numero1= chr((98))\n",
        "numero2= chr((100))\n",
        "\n",
        "print(numero1)\n",
        "print(numero2)"
      ],
      "execution_count": null,
      "outputs": [
        {
          "output_type": "stream",
          "name": "stdout",
          "text": [
            "b\n",
            "d\n"
          ]
        }
      ]
    },
    {
      "cell_type": "markdown",
      "metadata": {
        "id": "emCRFvspuI4Q"
      },
      "source": [
        "## delattr(*object, name*)\n",
        "\n",
        "**parâmetro** : \n",
        "objeto - o objeto do qual nome atributo deve ser removido\n",
        "nome - uma string que deve ser o nome do atributo a ser removido do objeto\n",
        "\n",
        "**Retorna** : remove o atributo indicado, desde que o objeto permita."
      ]
    },
    {
      "cell_type": "code",
      "metadata": {
        "colab": {
          "base_uri": "https://localhost:8080/",
          "height": 248
        },
        "id": "5mMiDbi-vBXZ",
        "outputId": "d15bfdde-e62e-4674-a5a5-da80eb1f44be"
      },
      "source": [
        "class myCodon:\n",
        "  codon1 = \"AAA\"\n",
        "  codon2 = \"TTT\"\n",
        "  codon3 = \"CCC\"\n",
        " \n",
        "codons = myCodon()\n",
        "\n",
        "#implementando o método\n",
        "delattr(myCodon, 'codon1')\n",
        "\n",
        "\n",
        "print('Codons = ', codons.codon2, codons.codon3)\n",
        "\n",
        "# Ao tentar imprimir o codon1 que foi deletado através do método ocorre um erro.\n",
        "print('AttributeError: myCodon object has no attribute codon1', codons.codon1)\n",
        "\n",
        "  \n",
        "\n",
        "\n"
      ],
      "execution_count": null,
      "outputs": [
        {
          "output_type": "stream",
          "name": "stdout",
          "text": [
            "Codons =  TTT CCC\n"
          ]
        },
        {
          "output_type": "error",
          "ename": "AttributeError",
          "evalue": "ignored",
          "traceback": [
            "\u001b[0;31m---------------------------------------------------------------------------\u001b[0m",
            "\u001b[0;31mAttributeError\u001b[0m                            Traceback (most recent call last)",
            "\u001b[0;32m<ipython-input-90-d56bf27a7a68>\u001b[0m in \u001b[0;36m<module>\u001b[0;34m()\u001b[0m\n\u001b[1;32m     13\u001b[0m \u001b[0;34m\u001b[0m\u001b[0m\n\u001b[1;32m     14\u001b[0m \u001b[0;31m# Ao tentar imprimir o codon1 que foi deletado através do método ocorre um erro.\u001b[0m\u001b[0;34m\u001b[0m\u001b[0;34m\u001b[0m\u001b[0;34m\u001b[0m\u001b[0m\n\u001b[0;32m---> 15\u001b[0;31m \u001b[0mprint\u001b[0m\u001b[0;34m(\u001b[0m\u001b[0;34m'AttributeError: myCodon object has no attribute codon1'\u001b[0m\u001b[0;34m,\u001b[0m \u001b[0mcodons\u001b[0m\u001b[0;34m.\u001b[0m\u001b[0mcodon1\u001b[0m\u001b[0;34m)\u001b[0m\u001b[0;34m\u001b[0m\u001b[0;34m\u001b[0m\u001b[0m\n\u001b[0m\u001b[1;32m     16\u001b[0m \u001b[0;34m\u001b[0m\u001b[0m\n\u001b[1;32m     17\u001b[0m \u001b[0;34m\u001b[0m\u001b[0m\n",
            "\u001b[0;31mAttributeError\u001b[0m: 'myCodon' object has no attribute 'codon1'"
          ]
        }
      ]
    },
    {
      "cell_type": "markdown",
      "metadata": {
        "id": "R5hBHFhlxY47"
      },
      "source": [
        "##class **dict(**kwarg)\n",
        "##class **dict**(mapping, **kwarg)\n",
        "## class **dict**(iterable, **kwarg)\n",
        "\n",
        "**parâmetro** : \n",
        "\"Um argumento de palavra-chave é um argumento precedido por um identificador (por exemplo,. name=). Conseqüentemente, o argumento de palavra-chave do formulário kwarg=valueé passado ao dict()construtor para criar dicionários\"\n",
        "\n",
        "**Retorna** : Cria um novo dicionário."
      ]
    },
    {
      "cell_type": "code",
      "metadata": {
        "colab": {
          "base_uri": "https://localhost:8080/"
        },
        "id": "5-H2DoAb1yPI",
        "outputId": "3e3b900b-b130-4970-d158-473e3b9f0865"
      },
      "source": [
        "#Exemplo 1: criar dicionário usando apenas argumentos de palavra-chave\n",
        "\n",
        "codons = dict(codon1='aaa', codon2='ccc')\n",
        "print('O dicionário criado foi =', codons)\n",
        "print(type(codons))\n",
        "\n",
        "\n",
        "#Exemplo 2: Criar Dicionário Usando Iterable\n",
        "\n",
        "# zip() \n",
        "bases_nitrogenadas = dict(dict(zip(['adenina', 'guanina', 'citosina'], ['a', 'g', 'c'])))\n",
        "print('Bases Nitrogenadas =', bases_nitrogenadas)\n"
      ],
      "execution_count": null,
      "outputs": [
        {
          "output_type": "stream",
          "name": "stdout",
          "text": [
            "O dicionário criado foi = {'codon1': 'aaa', 'codon2': 'ccc'}\n",
            "<class 'dict'>\n",
            "Bases Nitrogenadas = {'adenina': 'a', 'guanina': 'g', 'citosina': 'c'}\n"
          ]
        }
      ]
    },
    {
      "cell_type": "markdown",
      "metadata": {
        "id": "RFRDKAuUB9oU"
      },
      "source": [
        "## divmod(*a, b*)\n",
        "\n",
        "**parâmetros** : dois números (não complexos) como argumentos.\n",
        "\n",
        "**Retorna** : devolve um par de números que consiste em seu quociente e restante ao usar a divisão inteira. "
      ]
    },
    {
      "cell_type": "code",
      "metadata": {
        "colab": {
          "base_uri": "https://localhost:8080/"
        },
        "id": "gt_3AsW4CY4p",
        "outputId": "8286045d-5efa-4275-fbfc-0cddbfbe6324"
      },
      "source": [
        "#Números inteiros\n",
        "x =  divmod(8, 4)\n",
        "print('divmod(8, 4) = ', x)\n",
        "\n",
        "#Por exemplo, 8/4 = 2 e resto igual a 0\n",
        "\n",
        "#Números de ponto flutuante\n",
        "y =  divmod(2.0, 0.5)\n",
        "print('divmod(2.0, 0.5) = ', y)"
      ],
      "execution_count": null,
      "outputs": [
        {
          "output_type": "stream",
          "name": "stdout",
          "text": [
            "divmod(8, 4) =  (2, 0)\n",
            "divmod(2.0, 0.5) =  (4.0, 0.0)\n"
          ]
        }
      ]
    },
    {
      "cell_type": "markdown",
      "metadata": {
        "id": "vWfo35tqECeI"
      },
      "source": [
        "## enumerate(*iterable, start=0*)\n",
        "\n",
        "**parâmetros** :  iterable deve ser uma sequência, um iterador ou algum outro objeto que suporte a iteração.\n",
        "\n",
        "**Retorna** :  devolve uma tupla contendo uma contagem (a partir de start, cujo padrão é 0) e os valores obtidos na iteração sobre iterable."
      ]
    },
    {
      "cell_type": "code",
      "metadata": {
        "colab": {
          "base_uri": "https://localhost:8080/"
        },
        "id": "SsJwx5hvEgKg",
        "outputId": "8213f1ce-e07a-4561-a5f6-a4d32f83acbc"
      },
      "source": [
        "my_list = ['AAAAGGGG', 'TTTGGGCCC' , 'CCCTTGGGG']\n",
        "contagem = list(enumerate(my_list))\n",
        "print(contagem)\n",
        "\n",
        "my_list2 = ['A', 'T','C','G']\n",
        "\n",
        "contagem2 = list(enumerate(my_list2))\n",
        "print(contagem2)"
      ],
      "execution_count": null,
      "outputs": [
        {
          "output_type": "stream",
          "name": "stdout",
          "text": [
            "[(0, 'AAAAGGGG'), (1, 'TTTGGGCCC'), (2, 'CCCTTGGGG')]\n",
            "[(0, 'A'), (1, 'T'), (2, 'C'), (3, 'G')]\n"
          ]
        }
      ]
    },
    {
      "cell_type": "markdown",
      "metadata": {
        "id": "Ws6m7kHMGrla"
      },
      "source": [
        " ## eval(expression[, globals[, locals]])\n",
        "\n",
        " **argumentos**: \n",
        "\n",
        "expressão ou argumento expression - a string analisada e avaliada como uma expressão Python  - \n",
        "\n",
        "dicionários globals (opcional)\n",
        "\n",
        "dicionários locals como espaços de nomes globais e locais - um objeto de mapeamento. (opcional)\n",
        "\n",
        "Dicionário é o tipo de mapeamento padrão em Python \n",
        "\n",
        "**Retornar**:\n",
        "\n",
        "O método eval() retorna o resultado avaliado da expressão."
      ]
    },
    {
      "cell_type": "code",
      "metadata": {
        "colab": {
          "base_uri": "https://localhost:8080/"
        },
        "id": "D36gG0N0Jbgh",
        "outputId": "d5f9932a-b359-4dfe-c90f-fe2ffac7caf1"
      },
      "source": [
        "a = 4\n",
        "b  = 5\n",
        "\n",
        "# eval() avalia a expressão e o print exibe o valor\n",
        "print(eval('a + b - 1'))"
      ],
      "execution_count": null,
      "outputs": [
        {
          "output_type": "stream",
          "name": "stdout",
          "text": [
            "8\n"
          ]
        }
      ]
    },
    {
      "cell_type": "markdown",
      "metadata": {
        "id": "_5SV2wmzOnIS"
      },
      "source": [
        "## filter(*function, iterable*)\n",
        "\n",
        " **Argumentos**: \n",
        "- função - uma função\n",
        "- iterável - um iterável como conjuntos , listas , tuplas etc.\n",
        "   \n",
        "**Retornar**:Constrói um iterador a partir dos elementos de iterable para os quais function retorna verdadeiro.\n"
      ]
    },
    {
      "cell_type": "code",
      "metadata": {
        "colab": {
          "base_uri": "https://localhost:8080/"
        },
        "id": "yGIyx5LdPVdf",
        "outputId": "c61b2120-b17e-465c-fcbb-e2db4f03c8ff"
      },
      "source": [
        "#Exemplo 1\n",
        "dinucleotideo = ['aa', 'gc', 'cc','tt', 'aa','gc']\n",
        "def filtrar_letras(dinucleotideo):\n",
        "    if dinucleotideo == 'gc':\n",
        "          return True  \n",
        "\n",
        "    return False\n",
        "letras_iterator = filter(filtrar_letras, dinucleotideo)\n",
        "l = list(letras_iterator)\n",
        "print(l)\n",
        "print('A contagem de gc é',len(l))\n",
        "\n",
        "\n",
        "#Exemplo 2 com números\n",
        "numeros = [5, 6, 7, 8, 9, 10]\n",
        "\n",
        "def check_number(numeros):\n",
        "    if numeros % 2 == 0:\n",
        "          return True  \n",
        "\n",
        "    return False\n",
        "\n",
        "numeros_iterator = filter(check_number, numeros)\n",
        "n = list(numeros_iterator)\n",
        "print(n)\n",
        "\n",
        "#Exemplo 3\n",
        "letras = ['a', 'g', 'c','t', 'x', 'y']\n",
        "\n",
        "def filter_letras(base):\n",
        "  bases = ['a', 'g', 'c','t']\n",
        "  return True if base in bases else False\n",
        "\n",
        "filtered_letras = filter(filter_letras, letras)\n",
        "\n",
        "#covertendo em lista\n",
        "basesN = list(filtered_letras)\n",
        "print(basesN)\n",
        "\n"
      ],
      "execution_count": null,
      "outputs": [
        {
          "output_type": "stream",
          "name": "stdout",
          "text": [
            "['gc', 'gc']\n",
            "A contagem de gc é 2\n",
            "[6, 8, 10]\n",
            "['a', 'g', 'c', 't']\n"
          ]
        }
      ]
    },
    {
      "cell_type": "markdown",
      "metadata": {
        "id": "xP0iBLIpdgSg"
      },
      "source": [
        "##class float([x])\n",
        "\n",
        "**parâmetros** :  número ou string\n",
        "\n",
        "**Retorna** :  devolve uma tupla contendo uma contagem (a partir de start, cujo padrão é 0) e os valores obtidos na iteração sobre iterable."
      ]
    },
    {
      "cell_type": "code",
      "metadata": {
        "colab": {
          "base_uri": "https://localhost:8080/"
        },
        "id": "T34LYi9seH77",
        "outputId": "b1cd287d-3fbb-41f3-a4bf-17e0ceb0d219"
      },
      "source": [
        "numero = 10\n",
        "numero_float = float(numero)\n",
        "\n",
        "print(numero_float)\n",
        "\n",
        "string = '123'\n",
        "string_float = float(string)\n",
        "print(string_float)"
      ],
      "execution_count": null,
      "outputs": [
        {
          "output_type": "stream",
          "name": "stdout",
          "text": [
            "10.0\n",
            "123.0\n"
          ]
        }
      ]
    },
    {
      "cell_type": "markdown",
      "metadata": {
        "id": "aV3V1tl5fKs8"
      },
      "source": [
        "##format(value[, format_spec])\n",
        "\n",
        "**parâmetros** :  número ou string\n",
        "\n",
        "**Retorna** :  Converte um valor value em uma representação “formatada”, controlado por format_spec."
      ]
    },
    {
      "cell_type": "code",
      "metadata": {
        "colab": {
          "base_uri": "https://localhost:8080/"
        },
        "id": "yXvT4kaHglB0",
        "outputId": "6dd099a8-e779-4d40-dac7-d06635ca2368"
      },
      "source": [
        "#Tipos de apresentação para número inteiro\n",
        "\n",
        "print(\"Números inteiros: \\n\")\n",
        "print('Número 12 no formato float:', format(12, \"f\")) #formato float\n",
        "print('Número 12 no formato binário:', format(12, \"b\")) #formato binário\n",
        "print('Número 12 no formato inteiro:', format(12, \"d\")) #formato inteiro decimal\n",
        "print('Número 12 no formato octal:', format(12, \"o\")) #formato inteiro octal\n",
        "print('Número 12 no formato hexadecimal:', format(12, \"x\")) #formato inteiro hexadecimal\n",
        "print('Número 12 no formato hexadecimal:', format(12, \"X\")) #formato inteiro hexadecimal, maiúsculo.\n",
        "print('Número 12 no formato n:', format(12, \"n\")) \n",
        "#É o mesmo que 'd', exceto que usa a configuração local atual para inserir os caracteres separadores de número apropriados\n",
        "\n",
        "print('Número 12 no formato s:', format('12', 's')) #formato string"
      ],
      "execution_count": null,
      "outputs": [
        {
          "output_type": "stream",
          "name": "stdout",
          "text": [
            "Números inteiros: \n",
            "\n",
            "Número 12 no formato float: 12.000000\n",
            "Número 12 no formato binário: 1100\n",
            "Número 12 no formato inteiro: 12\n",
            "Número 12 no formato octal: 14\n",
            "Número 12 no formato hexadecimal: c\n",
            "Número 12 no formato hexadecimal: C\n",
            "Número 12 no formato n: 12\n",
            "Número 12 no formato s: 12\n"
          ]
        }
      ]
    },
    {
      "cell_type": "code",
      "metadata": {
        "colab": {
          "base_uri": "https://localhost:8080/"
        },
        "id": "5-DdlLVBykfi",
        "outputId": "f6eac6c7-5993-4eaa-9207-c26b7a847b59"
      },
      "source": [
        "#Tipos de apresentação para número float e decimal\n",
        "\n",
        "print(\"\\n Números float e decimal: \\n\")\n",
        "print('Notação cientifica do número 12.0 :', format(12.0, \"e\")) #Notação científica\n",
        "print('Notação cientifica do número 12.0 :', format(12.0, \"E\")) #Notação científica,  ‘E’ maiúsculo\n",
        "print('Notação de ponto fixo do número 12.0 :', format(12.0, \"F\")) #Notação de ponto fixo\n",
        "print('Formato geral do número 12.0 :', format(12.0, \"g\")) #Notação de ponto fixo\n",
        "print('Porcetagem do número 12.0 :', format(12.0, \"%\")) #Notação de ponto fixo"
      ],
      "execution_count": null,
      "outputs": [
        {
          "output_type": "stream",
          "name": "stdout",
          "text": [
            "\n",
            " Números float e decimal: \n",
            "\n",
            "Notação cientifica do número 12.0 : 1.200000e+01\n",
            "Notação cientifica do número 12.0 : 1.200000E+01\n",
            "Notação de ponto fixo do número 12.0 : 12.000000\n",
            "Formato geral do número 12.0 : 12\n",
            "Porcetagem do número 12.0 : 1200.000000%\n"
          ]
        }
      ]
    },
    {
      "cell_type": "code",
      "metadata": {
        "colab": {
          "base_uri": "https://localhost:8080/"
        },
        "id": "140poByU0_0e",
        "outputId": "e472ff70-efae-479d-b775-4b51ac113ecd"
      },
      "source": [
        "#formatação de números com  alinhamento\n",
        "print('Alinhamento a esquerda do número 12 :', format(12,\"<\")) \n",
        "print('Alinhamento a direita do número 12 :', format(12, \">\")) \n",
        "print('Centralização do número 12 :', format(12, \"^\")) \n",
        "print('Preenchimento automático do número 12 :', format(12, \"=\")) \n",
        "print('Positivo número 12 :', format(12, \"+\")) \n",
        "print('Negativo número 12 :', format(12, \"-\")) \n",
        "print('Espaço número 12 :', format(12, \" \")) "
      ],
      "execution_count": null,
      "outputs": [
        {
          "output_type": "stream",
          "name": "stdout",
          "text": [
            "Alinhamento a esquerda do número 12 : 12\n",
            "Alinhamento a direita do número 12 : 12\n",
            "Centralização do número 12 : 12\n",
            "Preenchimento automático do número 12 : 12\n",
            "Positivo número 12 : +12\n",
            "Negativo número 12 : 12\n",
            "Espaço número 12 :  12\n"
          ]
        }
      ]
    },
    {
      "cell_type": "code",
      "metadata": {
        "colab": {
          "base_uri": "https://localhost:8080/"
        },
        "id": "nuiOCZgO3uPM",
        "outputId": "00a02b73-bfb7-4154-ebc7-dbe35ff4fbd4"
      },
      "source": [
        "print(format(23,'>+g'))\n",
        "print(format(23,'<=-e'))\n",
        "print(format(23,'+f'))\n"
      ],
      "execution_count": null,
      "outputs": [
        {
          "output_type": "stream",
          "name": "stdout",
          "text": [
            "+23\n",
            "2.300000e+01\n",
            "+23.000000\n"
          ]
        }
      ]
    },
    {
      "cell_type": "code",
      "metadata": {
        "colab": {
          "base_uri": "https://localhost:8080/"
        },
        "id": "Mc6zXDb24v2U",
        "outputId": "bdec715c-e359-4fd0-cb74-7df66c279713"
      },
      "source": [
        "#Exemplos de formato\n",
        "#Acessando os argumentos por posição:\n",
        "print('{1}, {0}, {2}'.format('a', 'g', 'c'))\n",
        "print('{1}, {2}, {0}'.format(*'agc')) #descompactando agc\n",
        "print('{0}{1}{0}'.format('estudo', 'python'))"
      ],
      "execution_count": null,
      "outputs": [
        {
          "output_type": "stream",
          "name": "stdout",
          "text": [
            "g, a, c\n",
            "g, c, a\n",
            "estudopythonestudo\n"
          ]
        }
      ]
    },
    {
      "cell_type": "code",
      "metadata": {
        "colab": {
          "base_uri": "https://localhost:8080/"
        },
        "id": "Ck1KKowI7D7O",
        "outputId": "b3001cae-cf39-43d0-98c5-a40d1376ae18"
      },
      "source": [
        "#Acessando os argumentos por nome\n",
        "print('Codons: {codonDNA}, {codonRNA}'.format(codonDNA='AAT', codonRNA='AAU'))\n",
        "\n",
        "codons = {'codonDNA': 'AAT', 'codonRNA': 'AAU'}\n",
        "'Codons: {codonDNA}, {codonRNA}'.format(**codons)\n",
        "\n",
        "\n",
        "#Acessando os itens dos argumentos:\n",
        "codons = ('AAA', 'TGC')\n",
        "print('codon1: {0[0]};  codon2: {0[1]}'.format(codons))\n",
        "\n",
        "\n",
        "#Substituindo %s e %r:\n",
        "\"O codon de DNA é : {!r}; O codon de RNA é : {!s}\".format('TTT', 'UUU')\n",
        "\n",
        "#Alinhando o texto e especificando uma largura:\n",
        "print('{:>50}'.format('agggccc'))\n",
        "print('{:*^30}'.format('agggccc'))\n",
        "\n",
        "#Substituindo %+f, %-f e % f e especificando um sinal\n",
        "print('{:+f}; {: f}; {:-f}'.format(3.14, -3.14, 3.14))\n",
        "\n",
        "#pode ser :# ou :\n",
        "print(\"int: {0:d};  hex: {0:#x};  oct: {0:o};  bin: {0:b}\".format(12))\n"
      ],
      "execution_count": null,
      "outputs": [
        {
          "output_type": "stream",
          "name": "stdout",
          "text": [
            "Codons: AAT, AAU\n",
            "codon1: AAA;  codon2: TGC\n",
            "                                           agggccc\n",
            "***********agggccc************\n",
            "+3.140000; -3.140000; 3.140000\n",
            "int: 12;  hex: 0xc;  oct: 14;  bin: 1100\n"
          ]
        }
      ]
    },
    {
      "cell_type": "code",
      "metadata": {
        "colab": {
          "base_uri": "https://localhost:8080/"
        },
        "id": "dSYWeHODA5-j",
        "outputId": "4fc1b775-62aa-420f-8302-601ff7f79c1d"
      },
      "source": [
        "#Usando a vírgula como um separador de milhares\n",
        "print('{:,}'.format(12345))\n",
        "\n",
        "#Expressando uma porcentagem\n",
        "print('Porcentagem: {:.2%}'.format(12))\n",
        "\n",
        "print('Porcentagem: {:0.2f}%'.format(12))\n",
        "print('Porcentagem: {:0.1f}%'.format(12))"
      ],
      "execution_count": null,
      "outputs": [
        {
          "output_type": "stream",
          "name": "stdout",
          "text": [
            "12,345\n",
            "Porcentagem: 1200.00%\n",
            "Porcentagem: 12.00%\n",
            "Porcentagem: 12.0%\n"
          ]
        }
      ]
    },
    {
      "cell_type": "markdown",
      "metadata": {
        "id": "zdi-j9DJEHQT"
      },
      "source": [
        "##hasattr(object, name)\n",
        "\n",
        "**argumentos** :  um objeto e uma string\n",
        "\n",
        "objeto - objeto cujo atributo nomeado deve ser verificado\n",
        "\n",
        "nome - nome do atributo a ser pesquisado\n",
        "\n",
        "**Retorna** :  O resultado é `True` se a string é o nome de um dos atributos do objeto, e `False` se ela não for."
      ]
    },
    {
      "cell_type": "code",
      "metadata": {
        "colab": {
          "base_uri": "https://localhost:8080/"
        },
        "id": "VlPhL4BUE3zD",
        "outputId": "89939168-574d-4bc0-8f5c-db1588141795"
      },
      "source": [
        "#Exemplo 1\n",
        "\n",
        "class sequence:\n",
        "  pb = 3800\n",
        "  host = 'human'\n",
        "\n",
        "sequence = sequence()\n",
        "print('A sequencia tem pb?:', hasattr(sequence, 'pb'))\n",
        "print('A sequencia tem data?:', hasattr(sequence, 'data'))\n",
        "\n",
        "\n",
        "#Exemplo 2\n",
        "\n",
        "print(hasattr('ATTTAAA', 'AAA'))\n"
      ],
      "execution_count": null,
      "outputs": [
        {
          "output_type": "stream",
          "name": "stdout",
          "text": [
            "A sequencia tem pb?: True\n",
            "A sequencia tem data?: False\n",
            "False\n"
          ]
        }
      ]
    },
    {
      "cell_type": "markdown",
      "metadata": {
        "id": "fR9aMvOwHCLr"
      },
      "source": [
        "## input([prompt])"
      ]
    },
    {
      "cell_type": "code",
      "metadata": {
        "colab": {
          "base_uri": "https://localhost:8080/"
        },
        "id": "Apx30nI5HCf9",
        "outputId": "92c3968a-ae20-4f32-f123-fec6eaf2de7e"
      },
      "source": [
        "seq = input('Qual a sua sequencia:')\n",
        "print('Minha sequência é, ' + seq)"
      ],
      "execution_count": null,
      "outputs": [
        {
          "output_type": "stream",
          "name": "stdout",
          "text": [
            "Qual a sua sequencia:aaaggcgctttcc\n",
            "Minha sequência é, aaaggcgctttcc\n"
          ]
        }
      ]
    },
    {
      "cell_type": "markdown",
      "metadata": {
        "id": "piEdOYQVHnu6"
      },
      "source": [
        "##class **int**([x])\n",
        "##class **int**(x, base=10)\n",
        "\n",
        "**argumentos** :  número ou string\n",
        "\n",
        "\n",
        "**Retorna** :  Devolve um objeto inteiro construído a partir de um número ou string x, ou devolve 0 se nenhum argumento foi fornecido. \n",
        "\n"
      ]
    },
    {
      "cell_type": "code",
      "metadata": {
        "colab": {
          "base_uri": "https://localhost:8080/"
        },
        "id": "nk-KBHzMIC4R",
        "outputId": "277368e9-f89f-4ea5-8282-062fd2ccf958"
      },
      "source": [
        "print(\"int(136.7) é:\", int(136.7))"
      ],
      "execution_count": null,
      "outputs": [
        {
          "output_type": "stream",
          "name": "stdout",
          "text": [
            "int(136.7) é: 136\n"
          ]
        }
      ]
    },
    {
      "cell_type": "markdown",
      "metadata": {
        "id": "Mx5nLIOuKKol"
      },
      "source": [
        "##len(s)\n",
        "\n",
        "\n",
        "**argumentos** :  O argumento pode ser uma sequência (tal como uma string, bytes, tupla, lista, ou um intervalo) ou uma coleção (tal como um dicionário, conjunto, ou conjunto imutável).\n",
        "\n",
        "\n",
        "**Retorna** : Devolve o comprimento (o número de itens) de um objeto.\n"
      ]
    },
    {
      "cell_type": "code",
      "metadata": {
        "colab": {
          "base_uri": "https://localhost:8080/"
        },
        "id": "d9CLiPlXKd9E",
        "outputId": "02b98484-b2d7-42b5-acfa-6dd5eac850c2"
      },
      "source": [
        "seq = 'aaaaggggccttgtgttttcacaccccaaaa'\n",
        "print('Minha sequencia possui quantos nucleotideos?:',len(seq))\n",
        "\n",
        "list_seq = ['aaaggggtttcc' , 'cccctgtgtaaaaa' , 'gggggcggtttaaa']\n",
        "print('A lista possui quantas sequencias :',len(list_seq))\n",
        "print('A minha primeira sequencia possui quantos nucleotideos? :',len(list_seq[0]))\n",
        "\n",
        "dicio_seq = dict(dict(zip(['seq', 'seq2', 'seq3'], ['aaaaa', 'gggggg', 'tttttt'])))\n",
        "print(dicio_seq)\n",
        "print('Meu dict possui quantas seqs? :',len(dicio_seq))"
      ],
      "execution_count": null,
      "outputs": [
        {
          "output_type": "stream",
          "name": "stdout",
          "text": [
            "Minha sequencia possui quantos nucleotideos?: 31\n",
            "A lista possui quantas sequencias : 3\n",
            "A minha primeira sequencia possui quantos nucleotideos? : 12\n",
            "{'seq': 'aaaaa', 'seq2': 'gggggg', 'seq3': 'tttttt'}\n",
            "Meu dict possui quantas seqs? : 3\n"
          ]
        }
      ]
    },
    {
      "cell_type": "markdown",
      "metadata": {
        "id": "CXH6XJOdPJNa"
      },
      "source": [
        "##class list([iterable])\n",
        "\n"
      ]
    },
    {
      "cell_type": "code",
      "metadata": {
        "colab": {
          "base_uri": "https://localhost:8080/"
        },
        "id": "GlJW0LFVPa0y",
        "outputId": "08039ea7-f0d1-4af6-fc5a-52c2f703c014"
      },
      "source": [
        "seq = 'aaaaggggccttgtgtttt'\n",
        "print(seq)\n",
        "\n",
        "seq_list = list(seq)\n",
        "print(seq_list)"
      ],
      "execution_count": null,
      "outputs": [
        {
          "output_type": "stream",
          "name": "stdout",
          "text": [
            "aaaaggggccttgtgtttt\n",
            "['a', 'a', 'a', 'a', 'g', 'g', 'g', 'g', 'c', 'c', 't', 't', 'g', 't', 'g', 't', 't', 't', 't']\n"
          ]
        }
      ]
    },
    {
      "cell_type": "markdown",
      "metadata": {
        "id": "r5glfoSsREAn"
      },
      "source": [
        "##map(function, iterable, ...)"
      ]
    },
    {
      "cell_type": "code",
      "metadata": {
        "colab": {
          "base_uri": "https://localhost:8080/"
        },
        "id": "xb3FqIbhRE6X",
        "outputId": "0b7a597b-3ac4-4702-851e-3407872fb377"
      },
      "source": [
        "#Função\n",
        "def calculo(n):\n",
        "    return n*n\n",
        "\n",
        "\n",
        "numeros = (1, 2, 3, 4)\n",
        "resultados = map(calculo, numeros)\n",
        "print(list(resultados))\n",
        "\n",
        "#Iterable \n",
        "mapped_numeros = list(map(lambda x: x * x , numeros))\n",
        "print(mapped_numeros)"
      ],
      "execution_count": null,
      "outputs": [
        {
          "output_type": "stream",
          "name": "stdout",
          "text": [
            "[1, 4, 9, 16]\n",
            "[1, 4, 9, 16]\n"
          ]
        }
      ]
    },
    {
      "cell_type": "markdown",
      "metadata": {
        "id": "j33xaQdbSxNz"
      },
      "source": [
        "##reversed(seq)"
      ]
    },
    {
      "cell_type": "code",
      "metadata": {
        "colab": {
          "base_uri": "https://localhost:8080/"
        },
        "id": "kYHARYyFSwQE",
        "outputId": "53965573-c64f-4668-cd2f-94c60b5730c2"
      },
      "source": [
        "seq = 'aaaaggggccttgtgtttt'\n",
        "a = reversed(seq)\n",
        "print(list(a))\n",
        "\n",
        "seq2 = ['AAA' , 'CCC' , 'TTT']\n",
        "b = reversed(seq2)\n",
        "print(list(b))"
      ],
      "execution_count": null,
      "outputs": [
        {
          "output_type": "stream",
          "name": "stdout",
          "text": [
            "['t', 't', 't', 't', 'g', 't', 'g', 't', 't', 'c', 'c', 'g', 'g', 'g', 'g', 'a', 'a', 'a', 'a']\n",
            "['TTT', 'CCC', 'AAA']\n"
          ]
        }
      ]
    },
    {
      "cell_type": "markdown",
      "metadata": {
        "id": "rnQ9rfuhUFs8"
      },
      "source": [
        "##sorted(iterable, *, key=None, reverse=False)"
      ]
    },
    {
      "cell_type": "code",
      "metadata": {
        "colab": {
          "base_uri": "https://localhost:8080/"
        },
        "id": "knSHacYQUw5v",
        "outputId": "d3701250-a359-4445-aa0e-a55d81890edb"
      },
      "source": [
        "seq = 'agct'\n",
        "\n",
        "print(sorted(seq))  #sorted\n",
        "print(sorted(seq, reverse=True)) #sorted reverso\n",
        "\n"
      ],
      "execution_count": null,
      "outputs": [
        {
          "output_type": "stream",
          "name": "stdout",
          "text": [
            "['a', 'c', 'g', 't']\n",
            "['t', 'g', 'c', 'a']\n"
          ]
        }
      ]
    },
    {
      "cell_type": "markdown",
      "metadata": {
        "id": "-vxrJ-zOVnyP"
      },
      "source": [
        "##iter(object[, sentinel])\n",
        "\n",
        "**argumentos**- objeto - objeto cujo iterador deve ser criado (podem ser listas, tuplas , etc.)\n",
        "\n",
        "**Retorna** - um objeto iterador\n"
      ]
    },
    {
      "cell_type": "code",
      "metadata": {
        "colab": {
          "base_uri": "https://localhost:8080/"
        },
        "id": "5cr77VGYVwL9",
        "outputId": "3d0c8081-3983-4c83-e6e6-799abe07b6d3"
      },
      "source": [
        "# lista de bases nitrogenadas\n",
        "bases = ['a', 't', 'c', 'g', 'u']\n",
        "bases_iter = iter(bases)\n",
        "\n",
        "print(next(bases_iter))    # 'a'\n",
        "print(next(bases_iter))    # 't'"
      ],
      "execution_count": 180,
      "outputs": [
        {
          "output_type": "stream",
          "name": "stdout",
          "text": [
            "a\n",
            "t\n"
          ]
        }
      ]
    },
    {
      "cell_type": "markdown",
      "metadata": {
        "id": "zBL0za2oYOK_"
      },
      "source": [
        "##pow(base, exp[, mod])\n",
        "\n",
        "**argumentos** - base, expoente ou modulo (opcional)'\n"
      ]
    },
    {
      "cell_type": "code",
      "metadata": {
        "colab": {
          "base_uri": "https://localhost:8080/"
        },
        "id": "jWE1Yu0JZEBV",
        "outputId": "45e1c81e-8ef5-4bdb-db09-88c91167fde0"
      },
      "source": [
        "print(pow(2, 2))    # 4"
      ],
      "execution_count": 182,
      "outputs": [
        {
          "output_type": "stream",
          "name": "stdout",
          "text": [
            "4\n"
          ]
        }
      ]
    },
    {
      "cell_type": "markdown",
      "metadata": {
        "id": "fwGAzbCVZjqt"
      },
      "source": [
        "##class range(stop)\n",
        "##class range(start, stop[, step]\n",
        "\n",
        "**argumentos:** start - inteiro;  stop - inteiro; step - inteiro"
      ]
    },
    {
      "cell_type": "code",
      "metadata": {
        "colab": {
          "base_uri": "https://localhost:8080/"
        },
        "id": "3ECwC1klafOG",
        "outputId": "c0b0af0b-029d-4e33-9268-b6c4c624ab14"
      },
      "source": [
        "# range(stop)\n",
        "print(list(range(15)))\n",
        "\n",
        "# range(start, stop)\n",
        "print(list(range(2, 10)))\n",
        "\n",
        "# using range(start, stop, step)\n",
        "print(list(range(1, 10, 2)))\n",
        "\n",
        "start = 1\n",
        "stop = - 10\n",
        "step = - 2\n",
        "\n",
        "print(list(range(start, stop, step)))"
      ],
      "execution_count": 189,
      "outputs": [
        {
          "output_type": "stream",
          "name": "stdout",
          "text": [
            "[0, 1, 2, 3, 4, 5, 6, 7, 8, 9, 10, 11, 12, 13, 14]\n",
            "[2, 3, 4, 5, 6, 7, 8, 9]\n",
            "[1, 3, 5, 7, 9]\n",
            "[1, -1, -3, -5, -7, -9]\n"
          ]
        }
      ]
    },
    {
      "cell_type": "markdown",
      "metadata": {
        "id": "eS5D8w3bcbvl"
      },
      "source": [
        "##reversed(seq)"
      ]
    },
    {
      "cell_type": "code",
      "metadata": {
        "colab": {
          "base_uri": "https://localhost:8080/"
        },
        "id": "eEF5F6otciTr",
        "outputId": "e370338c-4696-47a2-9ab1-427cd9eb78f9"
      },
      "source": [
        "#reversed str em list\n",
        "seq = 'aattgg'\n",
        "print(list(reversed(seq)))"
      ],
      "execution_count": 191,
      "outputs": [
        {
          "output_type": "stream",
          "name": "stdout",
          "text": [
            "['g', 'g', 't', 't', 'a', 'a']\n"
          ]
        }
      ]
    },
    {
      "cell_type": "markdown",
      "metadata": {
        "id": "w6UBsvsBc60T"
      },
      "source": [
        "\n",
        "##round(number[, ndigits])\n"
      ]
    },
    {
      "cell_type": "code",
      "metadata": {
        "colab": {
          "base_uri": "https://localhost:8080/"
        },
        "id": "i-c27se0c-iL",
        "outputId": "ed6f76d8-cf91-4929-ad36-46163ee4f79c"
      },
      "source": [
        "round(2.6789499, 2)"
      ],
      "execution_count": 193,
      "outputs": [
        {
          "output_type": "execute_result",
          "data": {
            "text/plain": [
              "2.68"
            ]
          },
          "metadata": {},
          "execution_count": 193
        }
      ]
    },
    {
      "cell_type": "markdown",
      "metadata": {
        "id": "ghB3eUOUdZwm"
      },
      "source": [
        "##class set([iterable])\n",
        "A função set() cria um conjunto\n",
        "\n"
      ]
    },
    {
      "cell_type": "code",
      "metadata": {
        "colab": {
          "base_uri": "https://localhost:8080/"
        },
        "id": "zac3xsPkeD2T",
        "outputId": "279f3ee2-f52c-4599-d26c-86545e6a9a14"
      },
      "source": [
        "print(set([1, 2, 3, 3,4, 7, 5]))\n",
        "print(set({'a':0, 'e': 1, 'i':2, 'o':3, 'u':4}))"
      ],
      "execution_count": 197,
      "outputs": [
        {
          "output_type": "stream",
          "name": "stdout",
          "text": [
            "{1, 2, 3, 4, 5, 7}\n",
            "{'a', 'e', 'o', 'u', 'i'}\n"
          ]
        }
      ]
    },
    {
      "cell_type": "markdown",
      "metadata": {
        "id": "XeTk7uidfLqt"
      },
      "source": [
        "##class slice(stop)\n",
        "##class slice(start, stop[, step])\n",
        "\n"
      ]
    },
    {
      "cell_type": "code",
      "metadata": {
        "colab": {
          "base_uri": "https://localhost:8080/"
        },
        "id": "eM02mwT3fZQB",
        "outputId": "6812608f-e0a7-4fd9-dc42-dc41e39a9de7"
      },
      "source": [
        "string = 'aaatgcuu'\n",
        "slice_string = slice(4)\n",
        "print(string[slice_string])\n",
        "\n",
        "\n",
        "string = '-aaatgcuu-'\n",
        "slice_string = slice(1, -1)\n",
        "print(string[slice_string])\n",
        "\n",
        "# start = 1, stop = 6, step = 2\n",
        "string = 'aaaatgcuu'\n",
        "slice_string = slice(1, 6, 2)\n",
        "print(string[slice_string])"
      ],
      "execution_count": 206,
      "outputs": [
        {
          "output_type": "stream",
          "name": "stdout",
          "text": [
            "aaat\n",
            "aaatgcuu\n",
            "aag\n"
          ]
        }
      ]
    },
    {
      "cell_type": "markdown",
      "metadata": {
        "id": "9cWw3RVDhmxy"
      },
      "source": [
        "##sum(*iterable, /, start=0*)"
      ]
    },
    {
      "cell_type": "code",
      "metadata": {
        "colab": {
          "base_uri": "https://localhost:8080/"
        },
        "id": "sIMFcRL6hrYb",
        "outputId": "89d859bf-58ea-45f4-f05e-4f7f97dbe90c"
      },
      "source": [
        "a = sum ([1,2,3])\n",
        "print(a)"
      ],
      "execution_count": 213,
      "outputs": [
        {
          "output_type": "stream",
          "name": "stdout",
          "text": [
            "6\n"
          ]
        }
      ]
    },
    {
      "cell_type": "markdown",
      "metadata": {
        "id": "_r0jKAahjDKV"
      },
      "source": [
        "##zip(*iterables)\n"
      ]
    },
    {
      "cell_type": "code",
      "metadata": {
        "colab": {
          "base_uri": "https://localhost:8080/"
        },
        "id": "myhgWSL0jD7W",
        "outputId": "943395c6-c6fd-44bf-865c-20ca6f5dba1a"
      },
      "source": [
        "freqcodon_list = [50, 20, 40]\n",
        "codon_list = ['AAA', 'ATG', 'GTC']\n",
        "\n",
        "resultado_list= zip(codon_list,freqcodon_list)\n",
        "print(list(resultado_list))\n",
        "\n",
        "resultado_list2= list(zip(codon_list,freqcodon_list))\n",
        "print(set(resultado_list2))\n"
      ],
      "execution_count": 224,
      "outputs": [
        {
          "output_type": "stream",
          "name": "stdout",
          "text": [
            "[('AAA', 50), ('ATG', 20), ('GTC', 40)]\n",
            "{('GTC', 40), ('ATG', 20), ('AAA', 50)}\n"
          ]
        }
      ]
    },
    {
      "cell_type": "markdown",
      "metadata": {
        "id": "eSy9t6Yry_oD"
      },
      "source": [
        "#Referências:\n",
        "\n",
        "* https://www.programiz.com/python-programming/methods/built-in/abs\n",
        "\n",
        "* https://docs.python.org/pt-br/3/library/functions.html\n",
        "\n",
        "* https://www.w3schools.com/python/\n",
        "\n",
        "* https://www.geeksforgeeks.org/python-programming-language/\n"
      ]
    }
  ]
}